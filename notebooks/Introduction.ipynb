{
 "metadata": {
  "name": "",
  "signature": "sha256:1f5311176c333be655aab147d7f4515c069b9308016df82031302f82493cb8c2"
 },
 "nbformat": 3,
 "nbformat_minor": 0,
 "worksheets": [
  {
   "cells": [
    {
     "cell_type": "code",
     "collapsed": false,
     "input": [
      "# Enable logging\n",
      "import logging\n",
      "logger = logging.getLogger()\n",
      "logger.setLevel(logging.INFO)"
     ],
     "language": "python",
     "metadata": {},
     "outputs": [],
     "prompt_number": 1
    },
    {
     "cell_type": "markdown",
     "metadata": {},
     "source": [
      "## A simple prediction workflow"
     ]
    },
    {
     "cell_type": "markdown",
     "metadata": {},
     "source": [
      "Drain workflows consist of `drain.step.Step` objects. Take for example the `drain.data.ClassificationData` step:"
     ]
    },
    {
     "cell_type": "code",
     "collapsed": false,
     "input": [
      "import drain.data\n",
      "data = drain.data.ClassificationData(target=True, n_samples=1000, n_features=100)"
     ],
     "language": "python",
     "metadata": {},
     "outputs": [],
     "prompt_number": 2
    },
    {
     "cell_type": "markdown",
     "metadata": {},
     "source": [
      "This step calls the `sklearn.datasets.make_classification` method to generate a dataset with a binary outcome. We can run the step by step by calling its `execute` method:"
     ]
    },
    {
     "cell_type": "code",
     "collapsed": false,
     "input": [
      "data.execute()"
     ],
     "language": "python",
     "metadata": {},
     "outputs": [
      {
       "output_type": "stream",
       "stream": "stderr",
       "text": [
        "INFO:root:Running\n",
        "  ClassificationData(n_features=100, n_samples=1000)\n"
       ]
      }
     ],
     "prompt_number": 3
    },
    {
     "cell_type": "markdown",
     "metadata": {},
     "source": [
      "The _result_ is a dictionary containing a standard set of objects that drain uses for machine learning workflows:\n",
      " - `X` is a matrix of features, also called a design matrix,\n",
      " - `y` is a vector of outcomes\n",
      " - `train` is a binary vector indicating the rows of `X` which are in the training set\n",
      " - `test` is a binary vector indicating the rows of `X` which are in the test set"
     ]
    },
    {
     "cell_type": "markdown",
     "metadata": {},
     "source": [
      "Let's add another step to our workflow to construct a random forest estimator:"
     ]
    },
    {
     "cell_type": "code",
     "collapsed": false,
     "input": [
      "import drain.model, drain.step\n",
      "estimator = drain.step.Construct('sklearn.ensemble.RandomForestClassifier', n_estimators=1)"
     ],
     "language": "python",
     "metadata": {},
     "outputs": [],
     "prompt_number": 4
    },
    {
     "cell_type": "markdown",
     "metadata": {},
     "source": [
      "The `Construct` step is simply constructs an instance of the specified class with the given arguments:"
     ]
    },
    {
     "cell_type": "code",
     "collapsed": false,
     "input": [
      "estimator.execute()"
     ],
     "language": "python",
     "metadata": {},
     "outputs": [
      {
       "output_type": "stream",
       "stream": "stderr",
       "text": [
        "INFO:root:Running\n",
        "  Construct(__class_name__='sklearn.ensemble.RandomForestClassifier',\n",
        "       n_estimators=1)\n"
       ]
      }
     ],
     "prompt_number": 5
    },
    {
     "cell_type": "markdown",
     "metadata": {},
     "source": [
      "Next we add another step to fit this estimator on our previously generated dataset:"
     ]
    },
    {
     "cell_type": "code",
     "collapsed": false,
     "input": [
      "fit = drain.model.Fit(inputs=[estimator, data], return_estimator=True, return_feature_importances=True)"
     ],
     "language": "python",
     "metadata": {},
     "outputs": [],
     "prompt_number": 6
    },
    {
     "cell_type": "markdown",
     "metadata": {},
     "source": [
      "Note the special `inputs` argument. This argument is a collection of steps whose results `Fit` takes as input. "
     ]
    },
    {
     "cell_type": "code",
     "collapsed": false,
     "input": [
      "fit.execute()"
     ],
     "language": "python",
     "metadata": {},
     "outputs": [
      {
       "output_type": "stream",
       "stream": "stderr",
       "text": [
        "INFO:root:Running\n",
        "  Fit(inputs=[Construct(__class_name__='sklearn.ensemble.RandomForestClassifier',\n",
        "       n_estimators=1), ClassificationData(n_features=100, n_samples=1000)],\n",
        "    prefit=False, return_estimator=True, return_feature_importances=True,\n",
        "    return_predictions=False)\n"
       ]
      },
      {
       "output_type": "stream",
       "stream": "stderr",
       "text": [
        "INFO:root:Fitting with 388 examples, 100 features\n"
       ]
      }
     ],
     "prompt_number": 7
    },
    {
     "cell_type": "markdown",
     "metadata": {},
     "source": [
      "The `Fit` step returns the fitted estimator object as well as a dataframe containing the names of features and their importances."
     ]
    },
    {
     "cell_type": "markdown",
     "metadata": {},
     "source": [
      "Let's add one final step to our pipeline to generate predictions on the test set of our classification data:"
     ]
    },
    {
     "cell_type": "code",
     "collapsed": false,
     "input": [
      "predict = drain.model.Predict(inputs=[fit, data])\n",
      "predict.execute()"
     ],
     "language": "python",
     "metadata": {},
     "outputs": [
      {
       "output_type": "stream",
       "stream": "stderr",
       "text": [
        "INFO:root:Running\n",
        "  Predict(inputs=[Fit(inputs=[Construct(__class_name__='sklearn.ensemble.RandomForestClassifier',\n",
        "       n_estimators=1), ClassificationData(n_features=100, n_samples=1000)],\n",
        "    prefit=False, return_estimator=True, return_feature_importances=True,\n",
        "    return_predictions=False), ClassificationData(n_features=100, n_samples=1000)],\n",
        "      prefit=True, return_estimator=False, return_feature_importances=False,\n",
        "      return_predictions=True)\n"
       ]
      },
      {
       "output_type": "stream",
       "stream": "stderr",
       "text": [
        "INFO:root:Predicting 612 examples\n"
       ]
      }
     ],
     "prompt_number": 8
    },
    {
     "cell_type": "markdown",
     "metadata": {},
     "source": [
      "The Predict method returns a dataframe with a `score` column containing the predictions of the estimator and a `true` column containing the true outcomes."
     ]
    },
    {
     "cell_type": "markdown",
     "metadata": {},
     "source": [
      "The `drain.model` module contains a variety of metrics which can be run directly on the predict object:"
     ]
    },
    {
     "cell_type": "code",
     "collapsed": false,
     "input": [
      "drain.model.roc_auc(predict)"
     ],
     "language": "python",
     "metadata": {},
     "outputs": [
      {
       "metadata": {},
       "output_type": "pyout",
       "prompt_number": 11,
       "text": [
        "0.75414854627245242"
       ]
      }
     ],
     "prompt_number": 11
    },
    {
     "cell_type": "code",
     "collapsed": false,
     "input": [
      "drain.model.baseline(predict)"
     ],
     "language": "python",
     "metadata": {},
     "outputs": [
      {
       "metadata": {},
       "output_type": "pyout",
       "prompt_number": 12,
       "text": [
        "0.48856209150326796"
       ]
      }
     ],
     "prompt_number": 12
    },
    {
     "cell_type": "code",
     "collapsed": false,
     "input": [
      "drain.model.precision(predict, k=10)"
     ],
     "language": "python",
     "metadata": {},
     "outputs": [
      {
       "metadata": {},
       "output_type": "pyout",
       "prompt_number": 13,
       "text": [
        "0.90000000000000002"
       ]
      }
     ],
     "prompt_number": 13
    },
    {
     "cell_type": "markdown",
     "metadata": {},
     "source": [
      "We can retrieve the results of any step that has been run through the `get_result` method:"
     ]
    },
    {
     "cell_type": "code",
     "collapsed": false,
     "input": [
      "predict.get_result()"
     ],
     "language": "python",
     "metadata": {},
     "outputs": [
      {
       "metadata": {},
       "output_type": "pyout",
       "prompt_number": 14,
       "text": [
        "{'y':      true  score\n",
        " 1       0    0.0\n",
        " 3       0    1.0\n",
        " 7       1    1.0\n",
        " 8       1    0.0\n",
        " 10      0    1.0\n",
        " 11      0    1.0\n",
        " 12      0    1.0\n",
        " 13      1    0.0\n",
        " 14      0    0.0\n",
        " 15      0    1.0\n",
        " 18      0    0.0\n",
        " 19      0    0.0\n",
        " 20      0    1.0\n",
        " 21      0    0.0\n",
        " 23      0    0.0\n",
        " 30      1    0.0\n",
        " 33      1    1.0\n",
        " 34      1    1.0\n",
        " 35      0    0.0\n",
        " 36      1    1.0\n",
        " 38      0    1.0\n",
        " 39      0    0.0\n",
        " 40      1    1.0\n",
        " 43      1    0.0\n",
        " 44      0    1.0\n",
        " 48      1    1.0\n",
        " 50      0    0.0\n",
        " 51      0    1.0\n",
        " 52      0    0.0\n",
        " 53      0    1.0\n",
        " ..    ...    ...\n",
        " 948     1    0.0\n",
        " 949     0    1.0\n",
        " 950     0    0.0\n",
        " 951     0    1.0\n",
        " 952     0    0.0\n",
        " 955     0    0.0\n",
        " 956     1    0.0\n",
        " 957     1    1.0\n",
        " 958     0    1.0\n",
        " 959     1    1.0\n",
        " 961     0    0.0\n",
        " 964     1    1.0\n",
        " 966     0    0.0\n",
        " 969     0    0.0\n",
        " 971     1    1.0\n",
        " 973     0    0.0\n",
        " 975     0    0.0\n",
        " 976     0    0.0\n",
        " 978     0    0.0\n",
        " 979     0    1.0\n",
        " 980     0    0.0\n",
        " 981     1    1.0\n",
        " 982     0    0.0\n",
        " 989     0    1.0\n",
        " 992     0    0.0\n",
        " 993     1    0.0\n",
        " 994     0    0.0\n",
        " 995     1    1.0\n",
        " 997     0    0.0\n",
        " 999     0    0.0\n",
        " \n",
        " [612 rows x 2 columns]}"
       ]
      }
     ],
     "prompt_number": 14
    },
    {
     "cell_type": "markdown",
     "metadata": {},
     "source": [
      "## More on workflow execution"
     ]
    },
    {
     "cell_type": "markdown",
     "metadata": {},
     "source": [
      "Let's redefine the above workflow using a function:"
     ]
    },
    {
     "cell_type": "code",
     "collapsed": false,
     "input": [
      "def prediction_workflow():\n",
      "    # generate the data including a training and test split\n",
      "    data = drain.data.ClassificationData(target=True, n_samples=1000, n_features=100)\n",
      "    # construct a random forest estimator\n",
      "    estimator = drain.step.Construct('sklearn.ensemble.RandomForestClassifier', n_estimators=1)\n",
      "    # fit the estimator\n",
      "    fit = drain.model.Fit(inputs=[estimator, data], return_estimator=True, return_feature_importances=True)\n",
      "    # make predictions\n",
      "    return drain.model.Predict(inputs=[fit, data])"
     ],
     "language": "python",
     "metadata": {},
     "outputs": [],
     "prompt_number": 15
    },
    {
     "cell_type": "code",
     "collapsed": false,
     "input": [
      "predict2 = prediction_workflow()"
     ],
     "language": "python",
     "metadata": {},
     "outputs": [],
     "prompt_number": 16
    },
    {
     "cell_type": "markdown",
     "metadata": {},
     "source": [
      "Note that step execution is recursive, that is the `execute` method will ensure that all inputs, and inputs of inputs, etc. have been run before running the given step:"
     ]
    },
    {
     "cell_type": "code",
     "collapsed": false,
     "input": [
      "predict2.execute()"
     ],
     "language": "python",
     "metadata": {},
     "outputs": [
      {
       "output_type": "stream",
       "stream": "stderr",
       "text": [
        "INFO:root:Running\n",
        "  Construct(__class_name__='sklearn.ensemble.RandomForestClassifier',\n",
        "       n_estimators=1)\n"
       ]
      },
      {
       "output_type": "stream",
       "stream": "stderr",
       "text": [
        "INFO:root:Running\n",
        "  ClassificationData(n_features=100, n_samples=1000)\n"
       ]
      },
      {
       "output_type": "stream",
       "stream": "stderr",
       "text": [
        "INFO:root:Running\n",
        "  Fit(inputs=[Construct(__class_name__='sklearn.ensemble.RandomForestClassifier',\n",
        "       n_estimators=1), ClassificationData(n_features=100, n_samples=1000)],\n",
        "    prefit=False, return_estimator=True, return_feature_importances=True,\n",
        "    return_predictions=False)\n"
       ]
      },
      {
       "output_type": "stream",
       "stream": "stderr",
       "text": [
        "INFO:root:Fitting with 417 examples, 100 features\n"
       ]
      },
      {
       "output_type": "stream",
       "stream": "stderr",
       "text": [
        "INFO:root:Running\n",
        "  Predict(inputs=[Fit(inputs=[Construct(__class_name__='sklearn.ensemble.RandomForestClassifier',\n",
        "       n_estimators=1), ClassificationData(n_features=100, n_samples=1000)],\n",
        "    prefit=False, return_estimator=True, return_feature_importances=True,\n",
        "    return_predictions=False), ClassificationData(n_features=100, n_samples=1000)],\n",
        "      prefit=True, return_estimator=False, return_feature_importances=False,\n",
        "      return_predictions=True)\n"
       ]
      },
      {
       "output_type": "stream",
       "stream": "stderr",
       "text": [
        "INFO:root:Predicting 583 examples\n"
       ]
      }
     ],
     "prompt_number": 17
    },
    {
     "cell_type": "markdown",
     "metadata": {},
     "source": [
      "The steps of a workflow form a network (a directed acyclic graph or DAG, to be precise)."
     ]
    },
    {
     "cell_type": "markdown",
     "metadata": {},
     "source": [
      "## A more complicated workflow"
     ]
    },
    {
     "cell_type": "markdown",
     "metadata": {},
     "source": [
      "In practice we want to train many models on a given dataset. Let's define a workflow that searches over the number of trees in the random forest model:"
     ]
    },
    {
     "cell_type": "code",
     "collapsed": false,
     "input": [
      "def n_estimator_search():\n",
      "    data = drain.data.ClassificationData(target=True, n_samples=1000, n_features=100)\n",
      "    \n",
      "    predict = []\n",
      "    for n_estimators in range(1, 4):\n",
      "        estimator = drain.step.Construct('sklearn.ensemble.RandomForestClassifier', n_estimators=n_estimators, name = 'estimator')\n",
      "        fit = drain.model.Fit(inputs=[estimator, data], return_estimator=True, return_feature_importances=True)\n",
      "        predict.append(drain.model.Predict(inputs=[fit, data]))\n",
      "        \n",
      "    return predict"
     ],
     "language": "python",
     "metadata": {},
     "outputs": [],
     "prompt_number": 18
    },
    {
     "cell_type": "code",
     "collapsed": false,
     "input": [
      "predictions = n_estimator_search()"
     ],
     "language": "python",
     "metadata": {},
     "outputs": [],
     "prompt_number": 19
    },
    {
     "cell_type": "code",
     "collapsed": false,
     "input": [
      "for p in predictions:\n",
      "    p.execute()"
     ],
     "language": "python",
     "metadata": {},
     "outputs": [
      {
       "output_type": "stream",
       "stream": "stderr",
       "text": [
        "INFO:root:Running\n",
        "  Construct(__class_name__='sklearn.ensemble.RandomForestClassifier',\n",
        "       n_estimators=1)\n"
       ]
      },
      {
       "output_type": "stream",
       "stream": "stderr",
       "text": [
        "INFO:root:Running\n",
        "  ClassificationData(n_features=100, n_samples=1000)\n"
       ]
      },
      {
       "output_type": "stream",
       "stream": "stderr",
       "text": [
        "INFO:root:Running\n",
        "  Fit(inputs=[Construct(__class_name__='sklearn.ensemble.RandomForestClassifier',\n",
        "       n_estimators=1), ClassificationData(n_features=100, n_samples=1000)],\n",
        "    prefit=False, return_estimator=True, return_feature_importances=True,\n",
        "    return_predictions=False)\n"
       ]
      },
      {
       "output_type": "stream",
       "stream": "stderr",
       "text": [
        "INFO:root:Fitting with 398 examples, 100 features\n"
       ]
      },
      {
       "output_type": "stream",
       "stream": "stderr",
       "text": [
        "INFO:root:Running\n",
        "  Predict(inputs=[Fit(inputs=[Construct(__class_name__='sklearn.ensemble.RandomForestClassifier',\n",
        "       n_estimators=1), ClassificationData(n_features=100, n_samples=1000)],\n",
        "    prefit=False, return_estimator=True, return_feature_importances=True,\n",
        "    return_predictions=False), ClassificationData(n_features=100, n_samples=1000)],\n",
        "      prefit=True, return_estimator=False, return_feature_importances=False,\n",
        "      return_predictions=True)\n"
       ]
      },
      {
       "output_type": "stream",
       "stream": "stderr",
       "text": [
        "INFO:root:Predicting 602 examples\n"
       ]
      },
      {
       "output_type": "stream",
       "stream": "stderr",
       "text": [
        "INFO:root:Running\n",
        "  Construct(__class_name__='sklearn.ensemble.RandomForestClassifier',\n",
        "       n_estimators=2)\n"
       ]
      },
      {
       "output_type": "stream",
       "stream": "stderr",
       "text": [
        "INFO:root:Running\n",
        "  Fit(inputs=[Construct(__class_name__='sklearn.ensemble.RandomForestClassifier',\n",
        "       n_estimators=2), ClassificationData(n_features=100, n_samples=1000)],\n",
        "    prefit=False, return_estimator=True, return_feature_importances=True,\n",
        "    return_predictions=False)\n"
       ]
      },
      {
       "output_type": "stream",
       "stream": "stderr",
       "text": [
        "INFO:root:Fitting with 398 examples, 100 features\n"
       ]
      },
      {
       "output_type": "stream",
       "stream": "stderr",
       "text": [
        "INFO:root:Running\n",
        "  Predict(inputs=[Fit(inputs=[Construct(__class_name__='sklearn.ensemble.RandomForestClassifier',\n",
        "       n_estimators=2), ClassificationData(n_features=100, n_samples=1000)],\n",
        "    prefit=False, return_estimator=True, return_feature_importances=True,\n",
        "    return_predictions=False), ClassificationData(n_features=100, n_samples=1000)],\n",
        "      prefit=True, return_estimator=False, return_feature_importances=False,\n",
        "      return_predictions=True)\n"
       ]
      },
      {
       "output_type": "stream",
       "stream": "stderr",
       "text": [
        "INFO:root:Predicting 602 examples\n"
       ]
      },
      {
       "output_type": "stream",
       "stream": "stderr",
       "text": [
        "INFO:root:Running\n",
        "  Construct(__class_name__='sklearn.ensemble.RandomForestClassifier',\n",
        "       n_estimators=3)\n"
       ]
      },
      {
       "output_type": "stream",
       "stream": "stderr",
       "text": [
        "INFO:root:Running\n",
        "  Fit(inputs=[Construct(__class_name__='sklearn.ensemble.RandomForestClassifier',\n",
        "       n_estimators=3), ClassificationData(n_features=100, n_samples=1000)],\n",
        "    prefit=False, return_estimator=True, return_feature_importances=True,\n",
        "    return_predictions=False)\n"
       ]
      },
      {
       "output_type": "stream",
       "stream": "stderr",
       "text": [
        "INFO:root:Fitting with 398 examples, 100 features\n"
       ]
      },
      {
       "output_type": "stream",
       "stream": "stderr",
       "text": [
        "INFO:root:Running\n",
        "  Predict(inputs=[Fit(inputs=[Construct(__class_name__='sklearn.ensemble.RandomForestClassifier',\n",
        "       n_estimators=3), ClassificationData(n_features=100, n_samples=1000)],\n",
        "    prefit=False, return_estimator=True, return_feature_importances=True,\n",
        "    return_predictions=False), ClassificationData(n_features=100, n_samples=1000)],\n",
        "      prefit=True, return_estimator=False, return_feature_importances=False,\n",
        "      return_predictions=True)\n"
       ]
      },
      {
       "output_type": "stream",
       "stream": "stderr",
       "text": [
        "INFO:root:Predicting 602 examples\n"
       ]
      }
     ],
     "prompt_number": 20
    },
    {
     "cell_type": "markdown",
     "metadata": {},
     "source": [
      "Note that the ClassificationData step was only run once."
     ]
    },
    {
     "cell_type": "markdown",
     "metadata": {},
     "source": [
      "Drain provides some additional utilities for model exploration in the `drain.explore` module:"
     ]
    },
    {
     "cell_type": "code",
     "collapsed": false,
     "input": [
      "from drain import explore\n",
      "df = explore.to_dataframe(predictions)\n",
      "df"
     ],
     "language": "python",
     "metadata": {},
     "outputs": [
      {
       "html": [
        "<div style=\"max-width:1500px;overflow:auto;\">\n",
        "<table border=\"1\" class=\"dataframe\">\n",
        "  <thead>\n",
        "    <tr style=\"text-align: right;\">\n",
        "      <th></th>\n",
        "      <th>n_estimators</th>\n",
        "      <th>step</th>\n",
        "    </tr>\n",
        "  </thead>\n",
        "  <tbody>\n",
        "    <tr>\n",
        "      <th>0</th>\n",
        "      <td>1</td>\n",
        "      <td>Predict(inputs=[Fit(inputs=[Construct(__class_...</td>\n",
        "    </tr>\n",
        "    <tr>\n",
        "      <th>1</th>\n",
        "      <td>2</td>\n",
        "      <td>Predict(inputs=[Fit(inputs=[Construct(__class_...</td>\n",
        "    </tr>\n",
        "    <tr>\n",
        "      <th>2</th>\n",
        "      <td>3</td>\n",
        "      <td>Predict(inputs=[Fit(inputs=[Construct(__class_...</td>\n",
        "    </tr>\n",
        "  </tbody>\n",
        "</table>\n",
        "</div>"
       ],
       "metadata": {},
       "output_type": "pyout",
       "prompt_number": 21,
       "text": [
        "   n_estimators                                               step\n",
        "0             1  Predict(inputs=[Fit(inputs=[Construct(__class_...\n",
        "1             2  Predict(inputs=[Fit(inputs=[Construct(__class_...\n",
        "2             3  Predict(inputs=[Fit(inputs=[Construct(__class_..."
       ]
      }
     ],
     "prompt_number": 21
    },
    {
     "cell_type": "code",
     "collapsed": false,
     "input": [
      "from drain import model\n",
      "explore.apply(df, model.roc_auc)"
     ],
     "language": "python",
     "metadata": {},
     "outputs": [
      {
       "metadata": {},
       "output_type": "pyout",
       "prompt_number": 23,
       "text": [
        "n_estimators\n",
        "1    0.849987\n",
        "2    0.912371\n",
        "3    0.672443\n",
        "Name: step, dtype: float64"
       ]
      }
     ],
     "prompt_number": 23
    },
    {
     "cell_type": "code",
     "collapsed": false,
     "input": [
      "import yaml\n",
      "from collections import Hashable\n",
      "import pandas as pd\n",
      "from itertools import product"
     ],
     "language": "python",
     "metadata": {},
     "outputs": [],
     "prompt_number": 64
    },
    {
     "cell_type": "code",
     "collapsed": false,
     "input": [
      "from drain import util"
     ],
     "language": "python",
     "metadata": {},
     "outputs": [],
     "prompt_number": 65
    },
    {
     "cell_type": "code",
     "collapsed": false,
     "input": [
      "def apply(df, fn, **kwargs):\n",
      "    # make all arguments hashable so they can be column names for result\n",
      "    df = df.copy()\n",
      "    non_step = list(df.columns.difference({'step'}))\n",
      "    df.loc[:,non_step] = df.loc[:,non_step].applymap(\n",
      "        lambda d: d if isinstance(d, Hashable)\n",
      "                    else yaml.dump(d).replace('\\n', ', ').rstrip(', '))\n",
      "    df.set_index(non_step, inplace=True)\n",
      "        \n",
      "    search = list(product(util.make_list(fn), util.dict_product(kwargs)))\n",
      "    results = [df['step'].apply(lambda step: fn(step, **kw)).T for fn,kw in search]\n",
      "    \n",
      "    # when function returns a scalar reshape it into a DataFrame\n",
      "    # so it can be concatted properly\n",
      "    dfs = []\n",
      "    for r in results:\n",
      "        if isinstance(r, pd.Series):\n",
      "            r = pd.DataFrame(r).T\n",
      "            r.index = [0]\n",
      "        dfs.append(r)\n",
      "        \n",
      "    result = pd.concat(dfs, axis=1)\n",
      "        \n",
      "    tuples = [[fn.__name__] + kw.values() + util.make_list(c) for (fn,kw),c in product(search, df.index)]\n",
      "    names = [None]+search[0][1].keys() + df.index.names\n",
      "\n",
      "    index = pd.MultiIndex.from_tuples(tuples, names=names)\n",
      "    result.columns = index\n",
      "\n",
      "    return result"
     ],
     "language": "python",
     "metadata": {},
     "outputs": [],
     "prompt_number": 256
    },
    {
     "cell_type": "code",
     "collapsed": false,
     "input": [
      "import drain.metrics"
     ],
     "language": "python",
     "metadata": {},
     "outputs": [],
     "prompt_number": 262
    },
    {
     "cell_type": "code",
     "collapsed": false,
     "input": [
      "drain.metrics = reload(drain.metrics)\n",
      "model = reload(model)"
     ],
     "language": "python",
     "metadata": {},
     "outputs": [],
     "prompt_number": 272
    },
    {
     "cell_type": "code",
     "collapsed": false,
     "input": [
      "apply(df, [model.recall], k=50)"
     ],
     "language": "python",
     "metadata": {},
     "outputs": [
      {
       "html": [
        "<div style=\"max-width:1500px;overflow:auto;\">\n",
        "<table border=\"1\" class=\"dataframe\">\n",
        "  <thead>\n",
        "    <tr>\n",
        "      <th></th>\n",
        "      <th colspan=\"3\" halign=\"left\">recall</th>\n",
        "    </tr>\n",
        "    <tr>\n",
        "      <th>k</th>\n",
        "      <th colspan=\"3\" halign=\"left\">50</th>\n",
        "    </tr>\n",
        "    <tr>\n",
        "      <th>n_estimators</th>\n",
        "      <th>1</th>\n",
        "      <th>2</th>\n",
        "      <th>3</th>\n",
        "    </tr>\n",
        "  </thead>\n",
        "  <tbody>\n",
        "    <tr>\n",
        "      <th>0</th>\n",
        "      <td>0.88</td>\n",
        "      <td>0.96</td>\n",
        "      <td>0.78</td>\n",
        "    </tr>\n",
        "  </tbody>\n",
        "</table>\n",
        "</div>"
       ],
       "metadata": {},
       "output_type": "pyout",
       "prompt_number": 273,
       "text": [
        "             recall            \n",
        "k                50            \n",
        "n_estimators      1     2     3\n",
        "0              0.88  0.96  0.78"
       ]
      }
     ],
     "prompt_number": 273
    },
    {
     "cell_type": "code",
     "collapsed": false,
     "input": [
      "apply(df, [model.recall, model.precision], k=100)"
     ],
     "language": "python",
     "metadata": {},
     "outputs": [
      {
       "html": [
        "<div style=\"max-width:1500px;overflow:auto;\">\n",
        "<table border=\"1\" class=\"dataframe\">\n",
        "  <thead>\n",
        "    <tr>\n",
        "      <th></th>\n",
        "      <th colspan=\"3\" halign=\"left\">recall</th>\n",
        "      <th colspan=\"3\" halign=\"left\">precision</th>\n",
        "    </tr>\n",
        "    <tr>\n",
        "      <th>k</th>\n",
        "      <th colspan=\"3\" halign=\"left\">100</th>\n",
        "      <th colspan=\"3\" halign=\"left\">100</th>\n",
        "    </tr>\n",
        "    <tr>\n",
        "      <th>n_estimators</th>\n",
        "      <th>1</th>\n",
        "      <th>2</th>\n",
        "      <th>3</th>\n",
        "      <th>1</th>\n",
        "      <th>2</th>\n",
        "      <th>3</th>\n",
        "    </tr>\n",
        "  </thead>\n",
        "  <tbody>\n",
        "    <tr>\n",
        "      <th>0</th>\n",
        "      <td>0.85</td>\n",
        "      <td>0.93</td>\n",
        "      <td>0.73</td>\n",
        "      <td>0.85</td>\n",
        "      <td>0.93</td>\n",
        "      <td>0.73</td>\n",
        "    </tr>\n",
        "  </tbody>\n",
        "</table>\n",
        "</div>"
       ],
       "metadata": {},
       "output_type": "pyout",
       "prompt_number": 274,
       "text": [
        "             recall             precision            \n",
        "k               100                   100            \n",
        "n_estimators      1     2     3         1     2     3\n",
        "0              0.85  0.93  0.73      0.85  0.93  0.73"
       ]
      }
     ],
     "prompt_number": 274
    },
    {
     "cell_type": "code",
     "collapsed": false,
     "input": [
      "%matplotlib inline\n",
      "apply(df, [model.precision_series, model.recall_series], k=100).plot(figsize=(10,10))"
     ],
     "language": "python",
     "metadata": {},
     "outputs": [
      {
       "metadata": {},
       "output_type": "pyout",
       "prompt_number": 276,
       "text": [
        "<matplotlib.axes._subplots.AxesSubplot at 0x7f63a9584a90>"
       ]
      },
      {
       "metadata": {},
       "output_type": "display_data",
       "png": "[encoded data removed]",
       "text": [
        "<matplotlib.figure.Figure at 0x7f63a959a990>"
       ]
      }
     ],
     "prompt_number": 276
    },
    {
     "cell_type": "code",
     "collapsed": false,
     "input": [],
     "language": "python",
     "metadata": {},
     "outputs": []
    }
   ],
   "metadata": {}
  }
 ]
}